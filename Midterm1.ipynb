{
  "nbformat": 4,
  "nbformat_minor": 0,
  "metadata": {
    "colab": {
      "provenance": [],
      "mount_file_id": "11S84gapjhvftK72uHBtChkJ8ob1JoglY",
      "authorship_tag": "ABX9TyNG4Gy+wVsiLk/y6qKQKRUa",
      "include_colab_link": true
    },
    "kernelspec": {
      "name": "python3",
      "display_name": "Python 3"
    },
    "language_info": {
      "name": "python"
    }
  },
  "cells": [
    {
      "cell_type": "markdown",
      "metadata": {
        "id": "view-in-github",
        "colab_type": "text"
      },
      "source": [
        "<a href=\"https://colab.research.google.com/github/Servat0r/ISPR-Midterms-2023/blob/master/Midterm1.ipynb\" target=\"_parent\"><img src=\"https://colab.research.google.com/assets/colab-badge.svg\" alt=\"Open In Colab\"/></a>"
      ]
    },
    {
      "cell_type": "markdown",
      "source": [
        "# Midterm 1 ISPR 2023 - Assignment 6 - Salvatore Correnti (m. 584136)\n",
        "In this assignment we will show the implementation and testing on different images of an image blob detector based on the `Laplacian of Gaussian` convolution filter."
      ],
      "metadata": {
        "id": "uGMBPrSB0ioR"
      }
    },
    {
      "cell_type": "markdown",
      "source": [
        "## Initial imports\n",
        "Before coding, we use a single cell for changing working directory to the one in which this notebook is contained and for all the imports for simplyfing reading."
      ],
      "metadata": {
        "id": "OC8Tks-lNX3n"
      }
    },
    {
      "cell_type": "code",
      "source": [
        "%cd ./drive/MyDrive/Github/ISPR-Midterms-2023"
      ],
      "metadata": {
        "colab": {
          "base_uri": "https://localhost:8080/"
        },
        "id": "-4J6hgNkWf4H",
        "outputId": "a1a58894-060e-410c-8c38-cc4a999a0c80"
      },
      "execution_count": 1,
      "outputs": [
        {
          "output_type": "stream",
          "name": "stdout",
          "text": [
            "/content/drive/MyDrive/Github/ISPR-Midterms-2023\n"
          ]
        }
      ]
    },
    {
      "cell_type": "code",
      "source": [
        "import os\n",
        "import numpy as np\n",
        "import matplotlib.pyplot as plt\n",
        "import cv2 # for converting BGR -> grayscale\n",
        "from scipy.signal import convolve2d as scipy_convolve2d # 2d-convolution operator\n",
        "from scipy.ndimage import gaussian_laplace\n",
        "from skimage.exposure import rescale_intensity\n",
        "from PIL import Image\n",
        "from typing import * # for function signatures"
      ],
      "metadata": {
        "id": "6oS6zmIoIMy6"
      },
      "execution_count": 2,
      "outputs": []
    },
    {
      "cell_type": "markdown",
      "source": [
        "## Definition and Implementation of LoG\n",
        "We first define the `Laplacian of Gaussian` operator as the sum of the diagonal elements of the Jacobian matrix of the Gaussian function:\n",
        "\n",
        "$$g_{\\sigma}(x, y) := \\dfrac{1}{2\\pi\\sigma^2}e^{-\\left(\\dfrac{x^2 + y^2}{2\\sigma^2}\\right)}$$.\n",
        "\n",
        "$$\\nabla g_{\\sigma}(x, y) = -\\dfrac{g_{\\sigma}(x,y)}{\\sigma^2}\\left[\\begin{array}{c} x \\\\ y \\end{array}\\right]$$\n",
        "\n",
        "$$\\nabla^2g_{\\sigma}(x,y) = \\dfrac{\\partial^2 g_{\\sigma}}{\\partial x^2} + \\dfrac{\\partial^2 g_{\\sigma}}{\\partial y^2} = \\dfrac{e^{-\\left(\\dfrac{x^2 + y^2}{2\\sigma^2}\\right)}}{\\pi\\sigma^4}\\left[\\dfrac{x^2 + y^2}{2\\sigma^2} - 1\\right]\\:\\:(1)$$\n",
        "\n",
        "\n",
        "As we can see in (1), the sign of $\\nabla^2 g_{\\sigma}$ is determined by the value of $x^2 + y^2$, which can be interpreted as the radius of a circle centered in $(0, 0)$ to which $(x, y)$ belongs, and in particular $\\nabla^2 g_{\\sigma}$ when this radius is equal to $\\sigma\\sqrt{2}$, for which in fact the $\\nabla^2 g_{\\sigma}$ used as convolutional filter has the maximum response.\n",
        "\n",
        "Sometimes the Laplacian of Gaussian is used in its `normalized` form:\n",
        "\n",
        "$$ \\nabla^2_{norm}g_{\\sigma}(x, y) := \\sigma^2\\nabla^2g_{\\sigma}(x,y)$$\n",
        "\n",
        "The normalized form has the effect to maintain a higher diversity in pixel values after the convolution."
      ],
      "metadata": {
        "id": "-SV2uOs96K3-"
      }
    },
    {
      "cell_type": "markdown",
      "source": [
        "Since we are operating with discrete values like images, we need to define a `kernel`, which is a matrix $M \\in \\mathbb{R^{(2n+1) \\times (2n+1)}}$ such that $M_{n+1 \\pm i, n+1 \\pm j} = f(\\pm i, \\pm j)$ for a given function $f$."
      ],
      "metadata": {
        "id": "kyt2XBGGEJv5"
      }
    },
    {
      "cell_type": "code",
      "source": [
        "def log_filter(window_size: int, sigma: float = 1.0, normalized=False):\n",
        "  \"\"\"\n",
        "  :param window_size: Size of the kernel window.\n",
        "  :param sigma: Variance (sigma) of the LoG filter.\n",
        "  \"\"\"\n",
        "  w1 = h1 = window_size // 2  # In case of odd window, will give 0 to central value\n",
        "  w2 = h2 = window_size - w1\n",
        "  x, y = np.arange(-w1, w2, 1), np.arange(-h1, h2, 1)\n",
        "  mg = np.meshgrid(x, y)\n",
        "  # Compute the (x^2+y^2/(2sigma^2)) matrix\n",
        "  r = (np.square(mg[0][:, :]) + np.square(mg[1][:, :]))/(2 * sigma**2)\n",
        "  # Now compute the exp(r) matrix\n",
        "  gs = np.exp(-r)\n",
        "  exponent = 2 if normalized else 4\n",
        "  result = 1.0/(np.pi * sigma**exponent) * (gs * (r - 1.0)) # * for elementwise product\n",
        "  return result.astype(np.float32)"
      ],
      "metadata": {
        "id": "UyMqAcozF3yw"
      },
      "execution_count": 3,
      "outputs": []
    },
    {
      "cell_type": "markdown",
      "source": [
        "We now consider also the `Difference of Gaussian` approximation:"
      ],
      "metadata": {
        "id": "wAXb78z86ekN"
      }
    },
    {
      "cell_type": "code",
      "source": [
        "def gaussian_filter(window_size: int, sigma: float=1.0):\n",
        "  \"\"\"\n",
        "  :param window_size: Size of the kernel window.\n",
        "  :param sigma: Variance (sigma) of the LoG filter.\n",
        "  \"\"\"\n",
        "  w1 = h1 = window_size // 2  # In case of odd window, will give 0 to central value\n",
        "  w2 = h2 = window_size - w1\n",
        "  x, y = np.arange(-w1, w2, 1), np.arange(-h1, h2, 1)\n",
        "  mg = np.meshgrid(x, y)\n",
        "  # Compute the (x^2+y^2/(2sigma^2)) matrix\n",
        "  r = -(np.square(mg[0][:, :]) + np.square(mg[1][:, :]))/(2 * sigma**2)\n",
        "  # Now compute the exp(r) matrix\n",
        "  gs = np.exp(r)\n",
        "  result = 1.0/(2 * np.pi * sigma**2) * gs\n",
        "  return result.astype(np.float32)"
      ],
      "metadata": {
        "id": "DJgQ8L8T6eOP"
      },
      "execution_count": 4,
      "outputs": []
    },
    {
      "cell_type": "code",
      "source": [
        "def dog_filter(window_size: int, sigma0: float = 1.0, kappa: int = 1.0):\n",
        "  u = gaussian_filter(window_size, (kappa+1)*sigma0)\n",
        "  v = gaussian_filter(window_size, sigma0)\n",
        "  return (u - v)/(kappa * sigma0**2)"
      ],
      "metadata": {
        "id": "tp0azBA565Ji"
      },
      "execution_count": 5,
      "outputs": []
    },
    {
      "cell_type": "markdown",
      "source": [
        "An example of LoG matrix for a 3x3 kernel (both non-normalized and normalized):"
      ],
      "metadata": {
        "id": "Gto8Foz-LO0K"
      }
    },
    {
      "cell_type": "code",
      "source": [
        "print(\"Non-normalized kernel: \")\n",
        "print(log_filter(3, 2.0))\n",
        "print(\"Normalized kernel: \")\n",
        "print(log_filter(3, 2.0, True))\n",
        "print(\"Approximated kernel: \")\n",
        "print(dog_filter(3, 1.0, 2))"
      ],
      "metadata": {
        "colab": {
          "base_uri": "https://localhost:8080/"
        },
        "id": "VE7Pd2GVKGwF",
        "outputId": "0fa6338e-51dc-4859-b4c0-2569118bb07f"
      },
      "execution_count": 6,
      "outputs": [
        {
          "output_type": "stream",
          "name": "stdout",
          "text": [
            "Non-normalized kernel: \n",
            "[[-0.01162031 -0.01536213 -0.01162031]\n",
            " [-0.01536213 -0.01989437 -0.01536213]\n",
            " [-0.01162031 -0.01536213 -0.01162031]]\n",
            "Normalized kernel: \n",
            "[[-0.04648125 -0.06144851 -0.04648125]\n",
            " [-0.06144851 -0.07957747 -0.06144851]\n",
            " [-0.04648125 -0.06144851 -0.04648125]]\n",
            "Approximated kernel: \n",
            "[[-0.0213628  -0.03990206 -0.0213628 ]\n",
            " [-0.03990206 -0.07073553 -0.03990206]\n",
            " [-0.0213628  -0.03990206 -0.0213628 ]]\n"
          ]
        }
      ]
    },
    {
      "cell_type": "markdown",
      "source": [
        "## Dataset\n",
        "For performing convolutions we will use the following dataset:\n",
        "\n",
        "http://download.microsoft.com/download/A/1/1/A116CD80-5B79-407E-B5CE-3D5C6ED8B0D5/msrc_objcategimagedatabase_v1.zip\n",
        "\n",
        "Since its whole dimension is of about 125 MB, (by now) the whole dataset is stored in the same folder of this notebook.\n",
        "\n",
        "We will now define some utilities for our task:"
      ],
      "metadata": {
        "id": "hsAZtcW7OfgO"
      }
    },
    {
      "cell_type": "code",
      "source": [
        "def load_image(dir_path: str, file_name: str):\n",
        "  return Image.open(os.path.join(dir_path, file_name)).convert('L')\n",
        "\n",
        "def get_image_array(arr: np.ndarray, show=False):\n",
        "  image = Image.fromarray(arr, mode='L')\n",
        "  if show:\n",
        "    image.show()\n",
        "  return image"
      ],
      "metadata": {
        "id": "VklbdC6bLq_b"
      },
      "execution_count": 7,
      "outputs": []
    },
    {
      "cell_type": "code",
      "source": [
        "img = load_image('MSRC_ObjCategImageDatabase_v1', '1_9_s.bmp')\n",
        "img.show()\n",
        "\n",
        "print()\n",
        "\n",
        "# Just to check that get_image_array works correctly\n",
        "black_image_arr = np.zeros((80, 80), np.uint8)\n",
        "pil_black_image = get_image_array(black_image_arr, True)"
      ],
      "metadata": {
        "colab": {
          "base_uri": "https://localhost:8080/",
          "height": 327
        },
        "id": "kDCtNGh8WDFe",
        "outputId": "fac8ba7d-3ee6-47ff-b6a0-6ddc3e43055c"
      },
      "execution_count": 36,
      "outputs": [
        {
          "output_type": "display_data",
          "data": {
            "text/plain": [
              "<PIL.Image.Image image mode=L size=320x213 at 0x7F6FD3BEF5E0>"
            ],
            "image/png": "[encoded data removed]"
          },
          "metadata": {}
        },
        {
          "output_type": "stream",
          "name": "stdout",
          "text": [
            "\n"
          ]
        },
        {
          "output_type": "display_data",
          "data": {
            "text/plain": [
              "<PIL.Image.Image image mode=L size=80x80 at 0x7F6FD1B60D90>"
            ],
            "image/png": "[encoded data removed]"
          },
          "metadata": {}
        }
      ]
    },
    {
      "cell_type": "markdown",
      "source": [
        "After that, we define utility functions to use to compare the output of the convolution and of the `LoG` operator to assess correctness of our implementations."
      ],
      "metadata": {
        "id": "Z539_ErCKCaV"
      }
    },
    {
      "cell_type": "code",
      "source": [
        "def cv2_convolver(src, kernel):\n",
        "  \"\"\"\n",
        "  A wrapper function for `cv2.filter2D` to conform\n",
        "  to the `convolver` argument of `convolve_image`.\n",
        "  \"\"\"\n",
        "  out = cv2.filter2D(src, -1, kernel)\n",
        "  return out"
      ],
      "metadata": {
        "id": "gHlwbkMsdR2t"
      },
      "execution_count": 37,
      "outputs": []
    },
    {
      "cell_type": "code",
      "source": [
        "def scipy_convolver(src, kernel):\n",
        "  \"\"\"\n",
        "  A wrapper function for `scipy.signal.convolve2d` to\n",
        "  conform to the `convolver` argument of `convolve_image`.\n",
        "  \"\"\"\n",
        "  return scipy_convolve2d(src, kernel, mode='same')"
      ],
      "metadata": {
        "id": "36b0Etq0ksUN"
      },
      "execution_count": 38,
      "outputs": []
    },
    {
      "cell_type": "code",
      "source": [
        "def log_scipy(img, sigma, radius=None):\n",
        "  \"\"\"\n",
        "  LoG convolution as implemented by scipy in order\n",
        "  to make comparisons.\n",
        "  \"\"\"\n",
        "  img_arr = np.asarray(img, dtype=np.uint8)\n",
        "  result = gaussian_laplace(img_arr, sigma, radius=(radius-1)//2)\n",
        "  return result"
      ],
      "metadata": {
        "id": "2SdgTVBjyVMu"
      },
      "execution_count": 39,
      "outputs": []
    },
    {
      "cell_type": "markdown",
      "source": [
        "Finally, we define a utility function to use with all convolvers so far to operate either with `Pillow` images or `numpy` arrays."
      ],
      "metadata": {
        "id": "sj8WwkH_KjRt"
      }
    },
    {
      "cell_type": "code",
      "source": [
        "def convolve_image(\n",
        "    image: Union[Image.Image, np.ndarray], kernel: np.ndarray,\n",
        "    convolver: Callable[[np.ndarray, np.ndarray], np.ndarray]=scipy_convolve2d\n",
        "):\n",
        "  # Cannot specify in the signature that image is either Image or numpy\n",
        "  # (Does not recognize Union annotation)\n",
        "  \"\"\"\n",
        "  Given a grayscale PIL image, converts it to array and convolves\n",
        "  it with the given kernel.\n",
        "  :param image: PIL Image or numpy array to be convolved.\n",
        "  :param kernel: numpy kernel to use for convolution.\n",
        "  :param convolver: Function of the form (img, kernel) -> conv_img to use\n",
        "  for performing convolution. Defaults to `scipy.signal.convolve2d`.\n",
        "  :return: Convolved image as np.uint8 array.\n",
        "  \"\"\"\n",
        "  if isinstance(image, Image.Image):\n",
        "    img_arr = np.asarray(image).astype(np.float32)  # It is better to actually convolve with double values\n",
        "  elif isinstance(image, np.ndarray):\n",
        "    img_arr = image\n",
        "  else:\n",
        "    raise TypeError(f\"Unknown input type '{type(image)}' for 'image' parameter.\")\n",
        "  conv_img = convolver(img_arr, kernel)\n",
        "  conv_img = conv_img.astype(np.uint8)\n",
        "  return conv_img"
      ],
      "metadata": {
        "id": "QqcDl-J6Sap3"
      },
      "execution_count": 43,
      "outputs": []
    },
    {
      "cell_type": "markdown",
      "source": [
        "Before proceeding, let's do a couple of comparisons between our `LoG` implementation and the one provided by `scipy.ndimage.gaussian_laplacian`, and between the non-normalized and the normalized filters."
      ],
      "metadata": {
        "id": "BkJqiDCOLxYN"
      }
    },
    {
      "cell_type": "code",
      "source": [
        "# First normalized LoG\n",
        "kernel = log_filter(15, 4, True)\n",
        "conv_image = convolve_image(img, kernel, convolver=scipy_convolve2d)\n",
        "pil_conv_image = get_image_array(conv_image, True)"
      ],
      "metadata": {
        "colab": {
          "base_uri": "https://localhost:8080/",
          "height": 244
        },
        "outputId": "59ae139b-7ebe-44d0-e27e-d05e36e74972",
        "id": "ReSBSgvFMas8"
      },
      "execution_count": 44,
      "outputs": [
        {
          "output_type": "display_data",
          "data": {
            "text/plain": [
              "<PIL.Image.Image image mode=L size=334x227 at 0x7F6FD3E6A340>"
            ],
            "image/png": "[encoded data removed]"
          },
          "metadata": {}
        }
      ]
    },
    {
      "cell_type": "code",
      "source": [
        "# Then, non-normalized one (as the one used by scipy)\n",
        "kernel = log_filter(15, 4)\n",
        "conv_image = convolve_image(img, kernel, convolver=scipy_convolve2d)\n",
        "pil_conv_image = get_image_array(conv_image, True)"
      ],
      "metadata": {
        "colab": {
          "base_uri": "https://localhost:8080/",
          "height": 244
        },
        "id": "YDIO4eH-Xe_w",
        "outputId": "8106070d-93e3-4d79-bbd3-c911a5993df3"
      },
      "execution_count": 45,
      "outputs": [
        {
          "output_type": "display_data",
          "data": {
            "text/plain": [
              "<PIL.Image.Image image mode=L size=334x227 at 0x7F6FD3BEFDC0>"
            ],
            "image/png": "[encoded data removed]"
          },
          "metadata": {}
        }
      ]
    },
    {
      "cell_type": "markdown",
      "source": [
        "We now compare with the LoG by `scipy`."
      ],
      "metadata": {
        "id": "wYOuv0t2yWDK"
      }
    },
    {
      "cell_type": "code",
      "source": [
        "conv_image = log_scipy(img, 4, 15)\n",
        "pil_conv_image = get_image_array(conv_image, True)"
      ],
      "metadata": {
        "colab": {
          "base_uri": "https://localhost:8080/",
          "height": 230
        },
        "id": "JNF2hkwl2F6-",
        "outputId": "d210ae60-8093-498d-953e-705a7df69f2c"
      },
      "execution_count": 46,
      "outputs": [
        {
          "output_type": "display_data",
          "data": {
            "text/plain": [
              "<PIL.Image.Image image mode=L size=320x213 at 0x7F6FD3BEFC40>"
            ],
            "image/png": "[encoded data removed]"
          },
          "metadata": {}
        }
      ]
    },
    {
      "cell_type": "markdown",
      "source": [
        "## Convolution\n",
        "We now manually define our convolver for 2D-images.\n",
        "\n",
        "First, we must notice that the convolution is actually defined by pairwise multiplication **not** on the kernel matrix \"untouched\", but with a *swapped* version of it: given matrices $M \\in \\mathbb{R}^{m \\times n}, K \\in \\mathbb{R}^{(2k+1) \\times (2k+1)}$, it holds:\n",
        "\n",
        "$$\\left(M * K\\right)_{ij} := \\sum_{p = -k}^{k}{\\sum_{q = -k}^{k}{M_{i+p, j+q}K_{k+1-p, k+1-q}}}$$\n",
        "\n",
        "where for simplicity we define $M_{\\alpha,\\beta} = 0, K_{\\alpha, \\beta} = 0$ whenever $\\alpha < 0 \\vee \\beta < 0$.\n",
        "\n",
        "Our first step is then to define a function that applies that swapping:"
      ],
      "metadata": {
        "id": "bq5c3vRltmF5"
      }
    },
    {
      "cell_type": "code",
      "source": [
        "def swap_matrix(mat: np.ndarray):\n",
        "  if len(mat.shape) != 2:\n",
        "    raise ValueError(\"'mat' parameter must be a np.ndarray with shape of size 2\")\n",
        "  m, n = mat.shape[-2:]\n",
        "  for i in range(m):\n",
        "    mat[i, :] = mat[i, ::-1]\n",
        "  for j in range(n):\n",
        "    mat[:, j] = mat[::-1, j]\n",
        "  return mat"
      ],
      "metadata": {
        "id": "4bsP1NcCa1G2"
      },
      "execution_count": 47,
      "outputs": []
    },
    {
      "cell_type": "markdown",
      "source": [
        "Now just test that all works correctly:"
      ],
      "metadata": {
        "id": "PqlV1H3CPJhl"
      }
    },
    {
      "cell_type": "code",
      "source": [
        "mat = np.random.randn(4, 4)\n",
        "mat"
      ],
      "metadata": {
        "colab": {
          "base_uri": "https://localhost:8080/"
        },
        "id": "L0GYnzYramke",
        "outputId": "e6027c2d-5528-4543-a6fb-fe9b3c800d5a"
      },
      "execution_count": 48,
      "outputs": [
        {
          "output_type": "execute_result",
          "data": {
            "text/plain": [
              "array([[-0.47867246, -0.44283982,  2.39078355,  0.05485167],\n",
              "       [-0.46159522, -0.56459604, -0.75383256,  0.1359772 ],\n",
              "       [ 0.74578474, -0.56612619,  2.56393792,  1.34725313],\n",
              "       [-1.0835105 , -2.07678346, -0.64537355,  0.54918161]])"
            ]
          },
          "metadata": {},
          "execution_count": 48
        }
      ]
    },
    {
      "cell_type": "code",
      "source": [
        "swap_matrix(mat)\n",
        "mat"
      ],
      "metadata": {
        "colab": {
          "base_uri": "https://localhost:8080/"
        },
        "id": "J97jWSQVartR",
        "outputId": "3cc83168-1762-48b2-c944-a5f172455592"
      },
      "execution_count": 49,
      "outputs": [
        {
          "output_type": "execute_result",
          "data": {
            "text/plain": [
              "array([[ 0.54918161, -0.64537355, -2.07678346, -1.0835105 ],\n",
              "       [ 1.34725313,  2.56393792, -0.56612619,  0.74578474],\n",
              "       [ 0.1359772 , -0.75383256, -0.56459604, -0.46159522],\n",
              "       [ 0.05485167,  2.39078355, -0.44283982, -0.47867246]])"
            ]
          },
          "metadata": {},
          "execution_count": 49
        }
      ]
    },
    {
      "cell_type": "markdown",
      "source": [
        "We now define our convolution function. Before proceeding, it must be noted that for simplicity our function will implement **only** the *same* mode for convolutions: this is because we want to maintain the same dimension of the input image in the output one, and we want to center the kernel on the given point in the image at each step since we are calculating `LoG` for detecting blobs.\n",
        "\n",
        "We now define some helper functions for code readability and for easier debugging:\n",
        "\n"
      ],
      "metadata": {
        "id": "4xLnbFcoPp3V"
      }
    },
    {
      "cell_type": "code",
      "source": [
        "def get_offsets(k: int):\n",
        "  \"\"\"\n",
        "  Given a kernel size k, returns the offsets on all directions\n",
        "  for calculating the position of the kernel in the image.\n",
        "  \"\"\"\n",
        "  left_width_offset = up_height_offset = k // 2 # According to our construction of kernel\n",
        "  right_width_offset = down_height_offset = k - (k // 2) # Including center\n",
        "  return left_width_offset, right_width_offset, up_height_offset, down_height_offset"
      ],
      "metadata": {
        "id": "2RphbnjEQF4x"
      },
      "execution_count": 50,
      "outputs": []
    },
    {
      "cell_type": "code",
      "source": [
        "def get_kernel_indexes(i: int, j: int, m: int, n: int, k: int):\n",
        "  \"\"\"\n",
        "  Given indexes of the current point in the image, size of the image\n",
        "  and size of the kernel, calculates the indexes to use for selecting\n",
        "  the sub-matrix of the kernel to use in current iteration.\n",
        "  :param i: Row index of the current image point.\n",
        "  :param j: Column index of the current image point.\n",
        "  :param m: Row dimension of the image.\n",
        "  :param n: Column dimension of the image.\n",
        "  :param k: Dimension of the kernel.\n",
        "  \"\"\"\n",
        "  left_width_offset, right_width_offset, up_height_offset, down_height_offset = get_offsets(k)\n",
        "  kernel_column_start = max(0, left_width_offset - j)\n",
        "  kernel_column_end = left_width_offset + min(right_width_offset, n - j)\n",
        "  kernel_row_start = max(0, up_height_offset - i)\n",
        "  kernel_row_end = up_height_offset + min(down_height_offset, m - i)\n",
        "  return kernel_row_start, kernel_row_end, kernel_column_start, kernel_column_end"
      ],
      "metadata": {
        "id": "mEvwRlRYPwB7"
      },
      "execution_count": 51,
      "outputs": []
    },
    {
      "cell_type": "code",
      "source": [
        "def get_image_indexes(i, j, m, n, k):\n",
        "  \"\"\"\n",
        "  Given indexes of the current point in the image, size of the image\n",
        "  and size of the kernel, calculates the indexes to use for selecting\n",
        "  the sub-matrix of the image to use in current iteration.\n",
        "  :param i: Row index of the current image point.\n",
        "  :param j: Column index of the current image point.\n",
        "  :param m: Row dimension of the image.\n",
        "  :param n: Column dimension of the image.\n",
        "  :param k: Dimension of the kernel.\n",
        "  \"\"\"\n",
        "  left_width_offset, right_width_offset, up_height_offset, down_height_offset = get_offsets(k)\n",
        "  image_column_start = max(0, j - left_width_offset)\n",
        "  image_column_end = min(n, j + right_width_offset)\n",
        "  image_row_start = max(0, i - up_height_offset)\n",
        "  image_row_end = min(m, i + down_height_offset)\n",
        "  return image_row_start, image_row_end, image_column_start, image_column_end"
      ],
      "metadata": {
        "id": "S8WF5-eWP0RI"
      },
      "execution_count": 52,
      "outputs": []
    },
    {
      "cell_type": "markdown",
      "source": [
        "Finally, here is our convolution function:"
      ],
      "metadata": {
        "id": "IDPsLQ5MRvOj"
      }
    },
    {
      "cell_type": "code",
      "source": [
        "def convolve2d(image: np.ndarray, kernel: np.ndarray, pad_value=0.0):\n",
        "  \"\"\"\n",
        "  Applies a 2d-convolution between the given image and\n",
        "  the given kernel with padding.\n",
        "  :param image: Image to convolve as numpy array.\n",
        "  :param kernel: Kernel to use for convolution as 2d numpy array.\n",
        "  :param pad_value: Value to use for padding. Defaults to 0.\n",
        "  :return: Convolved image as numpy array.\n",
        "  \"\"\"\n",
        "  # First, copy kernel matrix to swap\n",
        "  swap_kernel = kernel.copy()\n",
        "  swap_matrix(swap_kernel)\n",
        "  \n",
        "  output = np.full(image.shape, pad_value, dtype=kernel.dtype)\n",
        "  m, n = image.shape[-2:]  # m rows, n columns\n",
        "  k = len(kernel)  # size of the kernel matrix\n",
        "  for i in range(m):\n",
        "    for j in range(n):\n",
        "      # Extract submatrix from kernel for applying convolution\n",
        "      kernel_row_start, kernel_row_end, kernel_column_start, kernel_column_end = get_kernel_indexes(i, j, m, n, k)\n",
        "      kernel_submatrix = swap_kernel[kernel_row_start:kernel_row_end, kernel_column_start:kernel_column_end]\n",
        "      # Now extract submatrix from image\n",
        "      image_row_start, image_row_end, image_column_start, image_column_end = get_image_indexes(i, j, m, n, k)\n",
        "      image_submatrix = image[image_row_start:image_row_end, image_column_start:image_column_end]\n",
        "      # Now multiply the submatrices element-wise to get the current output item\n",
        "      output[i, j] = np.sum(image_submatrix * kernel_submatrix)\n",
        "  return output"
      ],
      "metadata": {
        "id": "JMavyrwT_-Tq"
      },
      "execution_count": 53,
      "outputs": []
    },
    {
      "cell_type": "markdown",
      "source": [
        "Now let's test correctness of our implementation. First, visually compare with the above results, then calculate the difference in norm for that image and a randomly generated one:"
      ],
      "metadata": {
        "id": "bwk3mXhnR40a"
      }
    },
    {
      "cell_type": "code",
      "source": [
        "kernel = log_filter(15, 4, True)\n",
        "conv_image = convolve_image(img, kernel, convolver=convolve2d)\n",
        "pil_conv_image = get_image_array(conv_image, True)"
      ],
      "metadata": {
        "colab": {
          "base_uri": "https://localhost:8080/",
          "height": 230
        },
        "outputId": "df5dab16-e618-40c5-ac99-f1dc05f15bb1",
        "id": "RAZUAai_Fhl9"
      },
      "execution_count": 54,
      "outputs": [
        {
          "output_type": "display_data",
          "data": {
            "text/plain": [
              "<PIL.Image.Image image mode=L size=320x213 at 0x7F6FD3F47C10>"
            ],
            "image/png": "[encoded data removed]"
          },
          "metadata": {}
        }
      ]
    },
    {
      "cell_type": "code",
      "source": [
        "kernel = log_filter(15, 4, True)\n",
        "random_img = np.random.randint(0, 255, (200, 160)).astype(np.uint8)\n",
        "scipy_conv_random_img = convolve_image(random_img, kernel, convolver=scipy_convolver)\n",
        "own_conv_random_img = convolve_image(random_img, kernel, convolver=convolve2d)\n",
        "print(np.linalg.norm(scipy_conv_random_img - own_conv_random_img))"
      ],
      "metadata": {
        "colab": {
          "base_uri": "https://localhost:8080/"
        },
        "id": "x_3xN_SHSKiH",
        "outputId": "5499286c-d0b0-4ea9-96ef-f8fa5f536d11"
      },
      "execution_count": 56,
      "outputs": [
        {
          "output_type": "stream",
          "name": "stdout",
          "text": [
            "0.0\n"
          ]
        }
      ]
    },
    {
      "cell_type": "code",
      "source": [
        "kernel = log_filter(15, 4, False)\n",
        "random_img = np.random.randint(0, 255, (200, 160)).astype(np.uint8)\n",
        "scipy_conv_random_img = convolve_image(random_img, kernel, convolver=scipy_convolver)\n",
        "own_conv_random_img = convolve_image(random_img, kernel, convolver=convolve2d)\n",
        "print(np.linalg.norm(scipy_conv_random_img - own_conv_random_img))"
      ],
      "metadata": {
        "colab": {
          "base_uri": "https://localhost:8080/"
        },
        "id": "tCMJwICJS1Q2",
        "outputId": "df8c40c5-32a3-4f68-81f6-7114d7684890"
      },
      "execution_count": 58,
      "outputs": [
        {
          "output_type": "stream",
          "name": "stdout",
          "text": [
            "0.0\n"
          ]
        }
      ]
    },
    {
      "cell_type": "markdown",
      "source": [
        "Now some time comparisons:"
      ],
      "metadata": {
        "id": "htV3NR0NS8rh"
      }
    },
    {
      "cell_type": "code",
      "source": [
        "%timeit convolve2d(np.asarray(img), kernel)\n",
        "%timeit cv2.filter2D(np.asarray(img), -1, kernel)\n",
        "%timeit scipy_convolve2d(np.asarray(img), kernel)"
      ],
      "metadata": {
        "colab": {
          "base_uri": "https://localhost:8080/"
        },
        "id": "8Xsty7VVvwFV",
        "outputId": "f0f60e6e-e8c9-4d8a-a6cd-144e4c12a337"
      },
      "execution_count": 59,
      "outputs": [
        {
          "output_type": "stream",
          "name": "stdout",
          "text": [
            "1.1 s ± 278 ms per loop (mean ± std. dev. of 7 runs, 1 loop each)\n",
            "1.87 ms ± 333 µs per loop (mean ± std. dev. of 7 runs, 1000 loops each)\n",
            "60.6 ms ± 969 µs per loop (mean ± std. dev. of 7 runs, 10 loops each)\n"
          ]
        }
      ]
    },
    {
      "cell_type": "markdown",
      "source": [
        "## Local Maxima detection\n",
        "After having implemented and tested our 2D convolution, the subsequent step is to detect local maxima in the image produced by the convolution: this is because `LoG` filter has the maximum response when centered around a homogeneous region of radius $\\approx \\sigma\\sqrt{2}$, hence if a given point $(x,y)$ is on the center of that region, its value will be a local maximum in the ball $\\mathcal{B}\\left((x, y), \\sigma\\sqrt{2}\\right)$.\n",
        "\n",
        "In our case, since we are operating in a discrete approximation of the continous space $\\mathbb{R}^2$, we can simplify this detection by testing on a squared window of size $\\left\\lfloor{\\sigma}\\right\\rfloor$: in fact, if $p_0 := (x_0, y_0)$ is the center of such a window $W(p_0)$, for any point $p := (x, y)$ it holds that $\\|p - p_0\\|^2 = (x-x_0)^2 + (y-y_0)^2 \\leq 2\\sigma^2$, hence $W(p_0) \\subset \\mathcal{B}\\left((x, y), \\sigma\\sqrt{2}\\right)$.\n",
        "\n",
        "For capturing all local maxima, we need to cycle over the entire image: our next step will be to implement this algorithm."
      ],
      "metadata": {
        "id": "9XotvOEvGarj"
      }
    },
    {
      "cell_type": "code",
      "source": [],
      "metadata": {
        "id": "CsPMAu73TjL7"
      },
      "execution_count": null,
      "outputs": []
    },
    {
      "cell_type": "markdown",
      "source": [
        "### TODO:\n",
        "1. Implement the local maximum finder\n",
        "2. Implement the multiple-scale algorithm with maxima and packaging\n",
        "in one image (with associated info on sigma etc for each point)\n",
        "3. Plot the blobs with radius $\\sigma\\sqrt{2}$\n",
        "4. Take 3-4 images for showing results"
      ],
      "metadata": {
        "id": "EeOB9cX4t3ws"
      }
    }
  ]
}