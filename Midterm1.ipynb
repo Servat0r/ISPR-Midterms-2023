{
  "nbformat": 4,
  "nbformat_minor": 0,
  "metadata": {
    "colab": {
      "provenance": [],
      "mount_file_id": "11S84gapjhvftK72uHBtChkJ8ob1JoglY",
      "authorship_tag": "ABX9TyMgbDqt8xqNYpC5QB9j+rjA",
      "include_colab_link": true
    },
    "kernelspec": {
      "name": "python3",
      "display_name": "Python 3"
    },
    "language_info": {
      "name": "python"
    }
  },
  "cells": [
    {
      "cell_type": "markdown",
      "metadata": {
        "id": "view-in-github",
        "colab_type": "text"
      },
      "source": [
        "<a href=\"https://colab.research.google.com/github/Servat0r/ISPR-Midterms-2023/blob/master/Midterm1.ipynb\" target=\"_parent\"><img src=\"https://colab.research.google.com/assets/colab-badge.svg\" alt=\"Open In Colab\"/></a>"
      ]
    },
    {
      "cell_type": "markdown",
      "source": [
        "# Midterm 1 ISPR 2023 - Assignment 6 - Salvatore Correnti (m. 584136)\n",
        "In this assignment we will show the implementation and testing on different images of an image blob detector based on the `Laplacian of Gaussian` convolution filter."
      ],
      "metadata": {
        "id": "uGMBPrSB0ioR"
      }
    },
    {
      "cell_type": "markdown",
      "source": [
        "## Initial imports\n",
        "Before coding, we use a single cell for changing working directory to the one in which this notebook is contained and for all the imports for simplyfing reading."
      ],
      "metadata": {
        "id": "OC8Tks-lNX3n"
      }
    },
    {
      "cell_type": "code",
      "source": [
        "%cd ./drive/MyDrive/Github/ISPR-Midterms-2023"
      ],
      "metadata": {
        "colab": {
          "base_uri": "https://localhost:8080/"
        },
        "id": "-4J6hgNkWf4H",
        "outputId": "c893dd96-0fd8-4ce3-b4fc-d0dae62dca7d"
      },
      "execution_count": null,
      "outputs": [
        {
          "output_type": "stream",
          "name": "stdout",
          "text": [
            "/content/drive/MyDrive/Github/ISPR-Midterms-2023\n"
          ]
        }
      ]
    },
    {
      "cell_type": "code",
      "source": [
        "import os\n",
        "import numpy as np\n",
        "import matplotlib.pyplot as plt\n",
        "import cv2 # for converting BGR -> grayscale\n",
        "from scipy.signal import convolve2d as scipy_convolve2d # 2d-convolution operator\n",
        "from scipy.ndimage import gaussian_laplace\n",
        "from skimage.exposure import rescale_intensity\n",
        "from PIL import Image\n",
        "from typing import * # for function signatures"
      ],
      "metadata": {
        "id": "6oS6zmIoIMy6"
      },
      "execution_count": null,
      "outputs": []
    },
    {
      "cell_type": "markdown",
      "source": [
        "## Definition and Implementation of LoG\n",
        "We first define the `Laplacian of Gaussian` operator as the sum of the diagonal elements of the Jacobian matrix of the Gaussian function:\n",
        "\n",
        "$$g_{\\sigma}(x, y) := \\dfrac{1}{2\\pi\\sigma^2}e^{-\\left(\\dfrac{x^2 + y^2}{2\\sigma^2}\\right)}$$.\n",
        "\n",
        "$$\\nabla g_{\\sigma}(x, y) = -\\dfrac{g_{\\sigma}(x,y)}{\\sigma^2}\\left[\\begin{array}{c} x \\\\ y \\end{array}\\right]$$\n",
        "\n",
        "$$\\nabla^2g_{\\sigma}(x,y) = \\dfrac{\\partial^2 g_{\\sigma}}{\\partial x^2} + \\dfrac{\\partial^2 g_{\\sigma}}{\\partial y^2} = \\dfrac{e^{-\\left(\\dfrac{x^2 + y^2}{2\\sigma^2}\\right)}}{\\pi\\sigma^4}\\left[\\dfrac{x^2 + y^2}{2\\sigma^2} - 1\\right]\\:\\:(1)$$\n",
        "\n",
        "\n",
        "As we can see in (1), the sign of $\\nabla^2 g_{\\sigma}$ is determined by the value of $x^2 + y^2$, which can be interpreted as the radius of a circle centered in $(0, 0)$ to which $(x, y)$ belongs, and in particular $\\nabla^2 g_{\\sigma}$ when this radius is equal to $\\sigma\\sqrt{2}$, for which in fact the $\\nabla^2 g_{\\sigma}$ used as convolutional filter has the maximum response.\n",
        "\n",
        "Sometimes the Laplacian of Gaussian is used in its `normalized` form:\n",
        "\n",
        "$$ \\nabla^2_{norm}g_{\\sigma}(x, y) := \\sigma^2\\nabla^2g_{\\sigma}(x,y)$$\n",
        "\n",
        "The normalized form has the effect to maintain a higher diversity in pixel values after the convolution."
      ],
      "metadata": {
        "id": "-SV2uOs96K3-"
      }
    },
    {
      "cell_type": "markdown",
      "source": [
        "Since we are operating with discrete values like images, we need to define a `kernel`, which is a matrix $M \\in \\mathbb{R^{(2n+1) \\times (2n+1)}}$ such that $M_{n+1 \\pm i, n+1 \\pm j} = f(\\pm i, \\pm j)$ for a given function $f$."
      ],
      "metadata": {
        "id": "kyt2XBGGEJv5"
      }
    },
    {
      "cell_type": "code",
      "source": [
        "def log_filter(window_size: int, sigma: float = 1.0, normalized=False):\n",
        "  \"\"\"\n",
        "  :param window_size: Size of the kernel window.\n",
        "  :param sigma: Variance (sigma) of the LoG filter.\n",
        "  \"\"\"\n",
        "  w1 = h1 = window_size // 2  # In case of odd window, will give 0 to central value\n",
        "  w2 = h2 = window_size - w1\n",
        "  x, y = np.arange(-w1, w2, 1), np.arange(-h1, h2, 1)\n",
        "  mg = np.meshgrid(x, y)\n",
        "  # Compute the (x^2+y^2/(2sigma^2)) matrix\n",
        "  r = (np.square(mg[0][:, :]) + np.square(mg[1][:, :]))/(2 * sigma**2)\n",
        "  # Now compute the exp(r) matrix\n",
        "  gs = np.exp(-r)\n",
        "  exponent = 2 if normalized else 4\n",
        "  result = 1.0/(np.pi * sigma**exponent) * (gs * (r - 1.0)) # * for elementwise product\n",
        "  return result.astype(np.float32)"
      ],
      "metadata": {
        "id": "UyMqAcozF3yw"
      },
      "execution_count": null,
      "outputs": []
    },
    {
      "cell_type": "markdown",
      "source": [
        "We now consider also the `Difference of Gaussian` approximation:"
      ],
      "metadata": {
        "id": "wAXb78z86ekN"
      }
    },
    {
      "cell_type": "code",
      "source": [
        "def gaussian_filter(window_size: int, sigma: float=1.0):\n",
        "  \"\"\"\n",
        "  :param window_size: Size of the kernel window.\n",
        "  :param sigma: Variance (sigma) of the LoG filter.\n",
        "  \"\"\"\n",
        "  w1 = h1 = window_size // 2  # In case of odd window, will give 0 to central value\n",
        "  w2 = h2 = window_size - w1\n",
        "  x, y = np.arange(-w1, w2, 1), np.arange(-h1, h2, 1)\n",
        "  mg = np.meshgrid(x, y)\n",
        "  # Compute the (x^2+y^2/(2sigma^2)) matrix\n",
        "  r = -(np.square(mg[0][:, :]) + np.square(mg[1][:, :]))/(2 * sigma**2)\n",
        "  # Now compute the exp(r) matrix\n",
        "  gs = np.exp(r)\n",
        "  result = 1.0/(2 * np.pi * sigma**2) * gs\n",
        "  return result.astype(np.float32)"
      ],
      "metadata": {
        "id": "DJgQ8L8T6eOP"
      },
      "execution_count": null,
      "outputs": []
    },
    {
      "cell_type": "code",
      "source": [
        "def dog_filter(window_size: int, sigma0: float = 1.0, kappa: int = 1.0):\n",
        "  u = gaussian_filter(window_size, (kappa+1)*sigma0)\n",
        "  v = gaussian_filter(window_size, sigma0)\n",
        "  return (u - v)/(kappa * sigma0**2)"
      ],
      "metadata": {
        "id": "tp0azBA565Ji"
      },
      "execution_count": null,
      "outputs": []
    },
    {
      "cell_type": "markdown",
      "source": [
        "An example of LoG matrix for a 3x3 kernel (both non-normalized and normalized):"
      ],
      "metadata": {
        "id": "Gto8Foz-LO0K"
      }
    },
    {
      "cell_type": "code",
      "source": [
        "print(\"Non-normalized kernel: \")\n",
        "print(log_filter(3, 2.0))\n",
        "print(\"Normalized kernel: \")\n",
        "print(log_filter(3, 2.0, True))\n",
        "print(\"Approximated kernel: \")\n",
        "print(dog_filter(3, 1.0, 2))"
      ],
      "metadata": {
        "colab": {
          "base_uri": "https://localhost:8080/"
        },
        "id": "VE7Pd2GVKGwF",
        "outputId": "08ca2afe-cd13-4021-87e7-199cb0d8f061"
      },
      "execution_count": null,
      "outputs": [
        {
          "output_type": "stream",
          "name": "stdout",
          "text": [
            "Non-normalized kernel: \n",
            "[[-0.01162031 -0.01536213 -0.01162031]\n",
            " [-0.01536213 -0.01989437 -0.01536213]\n",
            " [-0.01162031 -0.01536213 -0.01162031]]\n",
            "Normalized kernel: \n",
            "[[-0.04648125 -0.06144851 -0.04648125]\n",
            " [-0.06144851 -0.07957747 -0.06144851]\n",
            " [-0.04648125 -0.06144851 -0.04648125]]\n",
            "Approximated kernel: \n",
            "[[-0.0213628  -0.03990206 -0.0213628 ]\n",
            " [-0.03990206 -0.07073553 -0.03990206]\n",
            " [-0.0213628  -0.03990206 -0.0213628 ]]\n"
          ]
        }
      ]
    },
    {
      "cell_type": "markdown",
      "source": [
        "## Dataset\n",
        "For performing convolutions we will use the following dataset:\n",
        "\n",
        "http://download.microsoft.com/download/A/1/1/A116CD80-5B79-407E-B5CE-3D5C6ED8B0D5/msrc_objcategimagedatabase_v1.zip\n",
        "\n",
        "Since its whole dimension is of about 125 MB, (by now) the whole dataset is stored in the same folder of this notebook.\n",
        "\n",
        "We will now define some utilities for our task:"
      ],
      "metadata": {
        "id": "hsAZtcW7OfgO"
      }
    },
    {
      "cell_type": "code",
      "source": [
        "def load_image(dir_path: str, file_name: str):\n",
        "  return Image.open(os.path.join(dir_path, file_name)).convert('L')\n",
        "\n",
        "def get_image_array(arr: np.ndarray, show=False):\n",
        "  image = Image.fromarray(arr, mode='L')\n",
        "  if show:\n",
        "    image.show()\n",
        "  return image"
      ],
      "metadata": {
        "id": "VklbdC6bLq_b"
      },
      "execution_count": null,
      "outputs": []
    },
    {
      "cell_type": "code",
      "source": [
        "img = load_image('MSRC_ObjCategImageDatabase_v1', '1_27_s.bmp')\n",
        "img.show()\n",
        "\n",
        "black_image_arr = np.zeros((80, 80), np.uint8)\n",
        "pil_black_image = get_image_array(black_image_arr, True)"
      ],
      "metadata": {
        "colab": {
          "base_uri": "https://localhost:8080/",
          "height": 310
        },
        "id": "kDCtNGh8WDFe",
        "outputId": "1e00360d-32a1-4233-e1fb-6c30f3ef7f59"
      },
      "execution_count": null,
      "outputs": [
        {
          "output_type": "display_data",
          "data": {
            "text/plain": [
              "<PIL.Image.Image image mode=L size=320x213 at 0x7FC3E54F5BE0>"
            ],
            "image/png": "[encoded data removed]"
          },
          "metadata": {}
        },
        {
          "output_type": "display_data",
          "data": {
            "text/plain": [
              "<PIL.Image.Image image mode=L size=80x80 at 0x7FC3E5407700>"
            ],
            "image/png": "[encoded data removed]"
          },
          "metadata": {}
        }
      ]
    },
    {
      "cell_type": "code",
      "source": [
        "def cv2_convolver(src, kernel):\n",
        "  \"\"\"\n",
        "  A wrapper function for `cv2.filter2D` to conform\n",
        "  to the `convolver` argument of `convolve_image`.\n",
        "  \"\"\"\n",
        "  out = cv2.filter2D(src, -1, kernel)\n",
        "  return out"
      ],
      "metadata": {
        "id": "gHlwbkMsdR2t"
      },
      "execution_count": null,
      "outputs": []
    },
    {
      "cell_type": "code",
      "source": [
        "def log_scipy(img, sigma, radius=None):\n",
        "  \"\"\"\n",
        "  LoG convolution as implemented by scipy in order\n",
        "  to make comparisons.\n",
        "  \"\"\"\n",
        "  img_arr = np.asarray(img, dtype=np.uint8)\n",
        "  result = gaussian_laplace(img_arr, sigma, radius=(radius-1)//2)\n",
        "  return result"
      ],
      "metadata": {
        "id": "2SdgTVBjyVMu"
      },
      "execution_count": null,
      "outputs": []
    },
    {
      "cell_type": "code",
      "source": [
        "def convolve_image(\n",
        "    image: Image, kernel: np.ndarray,\n",
        "    convolver: Callable[[np.ndarray, np.ndarray], np.ndarray]=scipy_convolve2d\n",
        "):\n",
        "  \"\"\"\n",
        "  Given a grayscale PIL image, converts it to array and convolves\n",
        "  it with the given kernel.\n",
        "  :param image: PIL Image to be convolved.\n",
        "  :param kernel: numpy kernel to use for convolution.\n",
        "  :param convolver: Function of the form (img, kernel) -> conv_img to use\n",
        "  for performing convolution. Defaults to `scipy.signal.convolve2d`.\n",
        "  :return: Convolved image as np.uint8 array.\n",
        "  \"\"\"\n",
        "  img_arr = np.asarray(image).astype(np.float32)  # It is better to actually convolve with double values\n",
        "  conv_img = convolver(img_arr, kernel)\n",
        "  conv_img = conv_img.astype(np.uint8)\n",
        "  return conv_img"
      ],
      "metadata": {
        "id": "QqcDl-J6Sap3"
      },
      "execution_count": null,
      "outputs": []
    },
    {
      "cell_type": "code",
      "source": [
        "kernel = log_filter(15, 3)\n",
        "conv_image = convolve_image(img, kernel, convolver=cv2_convolver)\n",
        "pil_conv_image = get_image_array(conv_image, True)"
      ],
      "metadata": {
        "colab": {
          "base_uri": "https://localhost:8080/",
          "height": 230
        },
        "id": "YDIO4eH-Xe_w",
        "outputId": "38cf0236-14ef-4a70-b33f-8d979553ebd3"
      },
      "execution_count": null,
      "outputs": [
        {
          "output_type": "display_data",
          "data": {
            "text/plain": [
              "<PIL.Image.Image image mode=L size=320x213 at 0x7FC3DAF6FEE0>"
            ],
            "image/png": "[encoded data removed]"
          },
          "metadata": {}
        }
      ]
    },
    {
      "cell_type": "markdown",
      "source": [
        "We now compare with the LoG by `scipy`."
      ],
      "metadata": {
        "id": "wYOuv0t2yWDK"
      }
    },
    {
      "cell_type": "code",
      "source": [
        "conv_image = log_scipy(img, 3, 15)\n",
        "pil_conv_image = get_image_array(conv_image, True)"
      ],
      "metadata": {
        "colab": {
          "base_uri": "https://localhost:8080/",
          "height": 230
        },
        "id": "JNF2hkwl2F6-",
        "outputId": "ac24d17a-7b7b-4996-ebb6-be82e3782717"
      },
      "execution_count": null,
      "outputs": [
        {
          "output_type": "display_data",
          "data": {
            "text/plain": [
              "<PIL.Image.Image image mode=L size=320x213 at 0x7FC3DAEC4820>"
            ],
            "image/png": "[encoded data removed]"
          },
          "metadata": {}
        }
      ]
    },
    {
      "cell_type": "code",
      "source": [
        "kernel = dog_filter(15, 3, 1)\n",
        "conv_image = convolve_image(img, kernel, convolver=cv2_convolver)\n",
        "pil_conv_image = get_image_array(conv_image, True)"
      ],
      "metadata": {
        "colab": {
          "base_uri": "https://localhost:8080/",
          "height": 230
        },
        "id": "_XFaP2YA8BTo",
        "outputId": "43c5ce2c-4922-4549-aff2-baf1e742e8f0"
      },
      "execution_count": null,
      "outputs": [
        {
          "output_type": "display_data",
          "data": {
            "text/plain": [
              "<PIL.Image.Image image mode=L size=320x213 at 0x7FC3E559DC10>"
            ],
            "image/png": "[encoded data removed]"
          },
          "metadata": {}
        }
      ]
    },
    {
      "cell_type": "markdown",
      "source": [
        "## Convolution\n",
        "We now manually define our convolver for 2D-images.\n",
        "\n",
        "First, since the convolution is not applied by multiplying with the kernel matrix in a ... # todo why swap_matrix"
      ],
      "metadata": {
        "id": "bq5c3vRltmF5"
      }
    },
    {
      "cell_type": "code",
      "source": [
        "def swap_matrix(mat: np.ndarray):\n",
        "  if len(mat.shape) != 2:\n",
        "    raise ValueError(\"'mat' parameter must be a np.ndarray with shape of size 2\")\n",
        "  m, n = mat.shape[-2:]\n",
        "  for i in range(m):\n",
        "    mat[i, :] = mat[i, ::-1]\n",
        "  for j in range(n):\n",
        "    mat[:, j] = mat[::-1, j]\n",
        "  return mat"
      ],
      "metadata": {
        "id": "4bsP1NcCa1G2"
      },
      "execution_count": null,
      "outputs": []
    },
    {
      "cell_type": "code",
      "source": [
        "mat = np.random.randn(4, 4)\n",
        "mat"
      ],
      "metadata": {
        "colab": {
          "base_uri": "https://localhost:8080/"
        },
        "id": "L0GYnzYramke",
        "outputId": "2d607dbb-9d9e-452b-b7b9-d34a71e4bf2b"
      },
      "execution_count": null,
      "outputs": [
        {
          "output_type": "execute_result",
          "data": {
            "text/plain": [
              "array([[-0.95652505,  0.35588733,  0.49514117,  0.30040119],\n",
              "       [ 1.20590518,  1.31229796,  0.51060863, -0.82809356],\n",
              "       [ 0.11707701, -0.44610197,  0.11065572,  0.86171403],\n",
              "       [ 2.3759573 ,  1.70739618,  1.38503998, -0.62736506]])"
            ]
          },
          "metadata": {},
          "execution_count": 205
        }
      ]
    },
    {
      "cell_type": "code",
      "source": [
        "swap_matrix(mat)\n",
        "mat"
      ],
      "metadata": {
        "colab": {
          "base_uri": "https://localhost:8080/"
        },
        "id": "J97jWSQVartR",
        "outputId": "93992ef6-575e-4835-e9ef-bc48c3d46617"
      },
      "execution_count": null,
      "outputs": [
        {
          "output_type": "execute_result",
          "data": {
            "text/plain": [
              "array([[-0.62736506,  1.38503998,  1.70739618,  2.3759573 ],\n",
              "       [ 0.86171403,  0.11065572, -0.44610197,  0.11707701],\n",
              "       [-0.82809356,  0.51060863,  1.31229796,  1.20590518],\n",
              "       [ 0.30040119,  0.49514117,  0.35588733, -0.95652505]])"
            ]
          },
          "metadata": {},
          "execution_count": 206
        }
      ]
    },
    {
      "cell_type": "code",
      "source": [
        "def compute_padding():\n",
        "  \"\"\"\n",
        "  Computes convolution with padding.\n",
        "  \"\"\"\n",
        "  ..."
      ],
      "metadata": {
        "id": "603Iz4zeCpkF"
      },
      "execution_count": null,
      "outputs": []
    },
    {
      "cell_type": "code",
      "source": [
        "def get_offsets(k):\n",
        "  left_width_offset = up_height_offset = k // 2 # According to our construction of kernel\n",
        "  right_width_offset = down_height_offset = k - (k // 2) # Including center\n",
        "  return left_width_offset, right_width_offset, up_height_offset, down_height_offset"
      ],
      "metadata": {
        "id": "2RphbnjEQF4x"
      },
      "execution_count": null,
      "outputs": []
    },
    {
      "cell_type": "code",
      "source": [
        "def get_kernel_indexes(kernel, m, n, k):\n",
        "  left_width_offset, right_width_offset, up_height_offset, down_height_offset = get_offsets(k)\n",
        "  # kernel_row_start = 0 if (i - left_width_offset >= 0) else (left_width_offset - i)\n",
        "  kernel_row_start = max(0, left_width_offset - i)\n",
        "  kernel_row_end = left_width_offset + min(right_width_offset, n - i)\n",
        "  # kernel_row_end = k if right_width_offset <= n - i else left_width_offset + n - i\n",
        "  kernel_column_start = max(0, up_height_offset - j)\n",
        "  kernel_column_end = up_height_offset + min(down_height_offset, m - j)\n",
        "  # kernel_column_end = k if j + down_height_offset <= m else up_height_offset + m - j\n",
        "  return kernel_row_start, kernel_row_end, kernel_column_start, kernel_column_end"
      ],
      "metadata": {
        "id": "mEvwRlRYPwB7"
      },
      "execution_count": null,
      "outputs": []
    },
    {
      "cell_type": "code",
      "source": [
        "def get_image_indexes(i, j, m, n, k):\n",
        "  left_width_offset, right_width_offset, up_height_offset, down_height_offset = get_offsets(k)\n",
        "  image_row_start = max(0, i - left_width_offset)\n",
        "  image_row_end = min(n, i + right_width_offset)\n",
        "  image_column_start = max(0, j - up_height_offset)\n",
        "  image_column_end = min(m, j + down_height_offset)\n",
        "  return image_row_start, image_row_end, image_column_start, image_column_end"
      ],
      "metadata": {
        "id": "S8WF5-eWP0RI"
      },
      "execution_count": null,
      "outputs": []
    },
    {
      "cell_type": "code",
      "source": [
        "def convolve2d(image: np.ndarray, kernel: np.ndarray, pad_value=0.0):\n",
        "  \"\"\"\n",
        "  Applies a 2d-convolution between the given image and\n",
        "  the given kernel with padding.\n",
        "  :param image: Image to convolve as numpy array.\n",
        "  :param kernel: Kernel to use for convolution as 2d numpy array.\n",
        "  :param pad_value: Value to use for padding. Defaults to 0.\n",
        "  :return: Convolved image as numpy array.\n",
        "  \"\"\"\n",
        "  # First, copy kernel matrix to swap\n",
        "  swap_kernel = kernel.copy()\n",
        "  swap_matrix(swap_kernel)\n",
        "  \n",
        "  output = np.full(image.shape, pad_value, dtype=kernel.dtype)\n",
        "  m, n = kernel.shape[-2:]  # m rows, n columns\n",
        "  k = len(kernel)  # size of the kernel matrix\n",
        "  for i in range(m):\n",
        "    for j in range(n):\n",
        "      # Extract submatrix from kernel for applying convolution\n",
        "      kernel_row_start, kernel_row_end, kernel_column_start, kernel_column_end = get_kernel_indexes(kernel, m, n, k)\n",
        "      kernel_submatrix = swap_kernel[kernel_row_start:kernel_row_end, kernel_column_start:kernel_column_end]\n",
        "      # Now extract submatrix from image\n",
        "      image_row_start, image_row_end, image_column_start, image_column_end = get_image_indexes(i, j, m, n, k)\n",
        "      image_submatrix = image[image_row_start:image_row_end, image_column_start:image_column_end]\n",
        "      # TODO Check if image_row_end, kernel_row_end etc are correct or need +1\n",
        "      # Now multiply the submatrices element-wise to get the current output item\n",
        "      output[i, j] = np.sum(image_submatrix * kernel_submatrix)\n",
        "  return output\n"
      ],
      "metadata": {
        "id": "JMavyrwT_-Tq"
      },
      "execution_count": null,
      "outputs": []
    },
    {
      "cell_type": "code",
      "source": [],
      "metadata": {
        "id": "1V_DfMff_-GD"
      },
      "execution_count": null,
      "outputs": []
    },
    {
      "cell_type": "markdown",
      "source": [
        "### TODO:\n",
        "1. Check correctness of the LoG filter as implemented above;\n",
        "2. Write my 2D convolver (including swaps of raws and columns of array);\n",
        "3. Check against known convolvers (scipy, opencv);\n",
        "4. Implement the local maximum finder\n",
        "5. Implement the multiple-scale algorithm with maxima and packaging\n",
        "in one image (with associated info on sigma etc for each point)\n",
        "6. Plot the blobs with radius $\\sigma\\sqrt{2}$\n",
        "7. Take 3-4 images for showing results"
      ],
      "metadata": {
        "id": "EeOB9cX4t3ws"
      }
    },
    {
      "cell_type": "code",
      "source": [
        "%timeit cv2.filter2D(np.asarray(img), -1, kernel)\n",
        "%timeit convolve2d(np.asarray(img), kernel)"
      ],
      "metadata": {
        "colab": {
          "base_uri": "https://localhost:8080/"
        },
        "id": "8Xsty7VVvwFV",
        "outputId": "0c0d4952-ca4e-4b94-9710-f15b93201e66"
      },
      "execution_count": null,
      "outputs": [
        {
          "output_type": "stream",
          "name": "stdout",
          "text": [
            "1.58 ms ± 287 µs per loop (mean ± std. dev. of 7 runs, 1000 loops each)\n",
            "71.9 ms ± 14.3 ms per loop (mean ± std. dev. of 7 runs, 10 loops each)\n"
          ]
        }
      ]
    },
    {
      "cell_type": "code",
      "source": [],
      "metadata": {
        "id": "p7z2TJ2MQcw6"
      },
      "execution_count": null,
      "outputs": []
    }
  ]
}