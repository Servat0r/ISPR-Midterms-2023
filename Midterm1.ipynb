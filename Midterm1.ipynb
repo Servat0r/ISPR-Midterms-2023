{
  "nbformat": 4,
  "nbformat_minor": 0,
  "metadata": {
    "colab": {
      "provenance": [],
      "authorship_tag": "ABX9TyNPHFSeh/k729Tcr2cV7Xcf",
      "include_colab_link": true
    },
    "kernelspec": {
      "name": "python3",
      "display_name": "Python 3"
    },
    "language_info": {
      "name": "python"
    }
  },
  "cells": [
    {
      "cell_type": "markdown",
      "metadata": {
        "id": "view-in-github",
        "colab_type": "text"
      },
      "source": [
        "<a href=\"https://colab.research.google.com/github/Servat0r/ISPR-Midterms-2023/blob/master/Midterm1.ipynb\" target=\"_parent\"><img src=\"https://colab.research.google.com/assets/colab-badge.svg\" alt=\"Open In Colab\"/></a>"
      ]
    },
    {
      "cell_type": "markdown",
      "source": [
        "# Midterm 1 ISPR 2023 - Assignment 6 - Salvatore Correnti (m. 584136)\n",
        "In this assignment we will show the implementation and testing on different images of an image blob detector based on the `Laplacian of Gaussian` convolution filter."
      ],
      "metadata": {
        "id": "uGMBPrSB0ioR"
      }
    },
    {
      "cell_type": "markdown",
      "source": [
        "## Definition and Implementation of LoG\n",
        "We first define the `Laplacian of Gaussian` operator as the sum of the diagonal elements of the Jacobian matrix of the Gaussian function:\n",
        "\n",
        "$$g_{\\sigma}(x, y) := \\dfrac{1}{2\\pi\\sigma^2}e^{-\\left(\\dfrac{x^2 + y^2}{2\\sigma^2}\\right)}$$.\n",
        "\n",
        "$$\\nabla g_{\\sigma}(x, y) = -\\dfrac{g_{\\sigma}(x,y)}{\\sigma^2}\\left[\\begin{array}{c} x \\\\ y \\end{array}\\right]$$\n",
        "\n",
        "$$\\nabla^2g_{\\sigma}(x,y) = \\dfrac{\\partial^2 g_{\\sigma}}{\\partial x^2} + \\dfrac{\\partial^2 g_{\\sigma}}{\\partial y^2} = \\dfrac{e^{-\\left(\\dfrac{x^2 + y^2}{2\\sigma^2}\\right)}}{\\pi\\sigma^4}\\left[\\dfrac{x^2 + y^2}{2\\sigma^2} - 1\\right]\\:\\:(1)$$\n",
        "\n",
        "\n",
        "As we can see in (1), the sign of $\\nabla^2 g_{\\sigma}$ is determined by the value of $x^2 + y^2$, which can be interpreted as the radius of a circle centered in $(0, 0)$ to which $(x, y)$ belongs, and in particular $\\nabla^2 g_{\\sigma}$ when this radius is equal to $\\sigma\\sqrt{2}$, for which in fact the $\\nabla^2 g_{\\sigma}$ used as convolutional filter has the maximum response."
      ],
      "metadata": {
        "id": "-SV2uOs96K3-"
      }
    },
    {
      "cell_type": "markdown",
      "source": [
        "Since we are operating with discrete values like images, we need to define a `kernel`, which is a matrix $M \\in \\mathbb{R^{(2n+1) \\times (2n+1)}}$ such that $M_{n+1 \\pm i, n+1 \\pm j} = f(\\pm i, \\pm j)$ for a given function $f$."
      ],
      "metadata": {
        "id": "kyt2XBGGEJv5"
      }
    },
    {
      "cell_type": "code",
      "source": [],
      "metadata": {
        "id": "UyMqAcozF3yw"
      },
      "execution_count": null,
      "outputs": []
    }
  ]
}