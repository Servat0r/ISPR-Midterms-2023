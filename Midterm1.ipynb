{
  "nbformat": 4,
  "nbformat_minor": 0,
  "metadata": {
    "colab": {
      "provenance": [],
      "authorship_tag": "ABX9TyMP5XEMr0f9mnRcjyG55vSi",
      "include_colab_link": true
    },
    "kernelspec": {
      "name": "python3",
      "display_name": "Python 3"
    },
    "language_info": {
      "name": "python"
    }
  },
  "cells": [
    {
      "cell_type": "markdown",
      "metadata": {
        "id": "view-in-github",
        "colab_type": "text"
      },
      "source": [
        "<a href=\"https://colab.research.google.com/github/Servat0r/ISPR-Midterms-2023/blob/master/Midterm1.ipynb\" target=\"_parent\"><img src=\"https://colab.research.google.com/assets/colab-badge.svg\" alt=\"Open In Colab\"/></a>"
      ]
    },
    {
      "cell_type": "markdown",
      "source": [
        "# Midterm 1 ISPR 2023 - Assignment 6 - Salvatore Correnti (m. 584136)\n",
        "In this assignment we will show the implementation and testing on different images of an image blob detector based on the `Laplacian of Gaussian` convolution filter."
      ],
      "metadata": {
        "id": "uGMBPrSB0ioR"
      }
    },
    {
      "cell_type": "markdown",
      "source": [
        "## Initial imports\n",
        "Before coding, we use a single cell for all the imports for simplyfing reading."
      ],
      "metadata": {
        "id": "OC8Tks-lNX3n"
      }
    },
    {
      "cell_type": "code",
      "source": [
        "import numpy as np\n",
        "import matplotlib.pyplot as plt\n",
        "from scipy.signal import convolve2d  # 2d-convolution operator"
      ],
      "metadata": {
        "id": "6oS6zmIoIMy6"
      },
      "execution_count": 45,
      "outputs": []
    },
    {
      "cell_type": "markdown",
      "source": [
        "## Definition and Implementation of LoG\n",
        "We first define the `Laplacian of Gaussian` operator as the sum of the diagonal elements of the Jacobian matrix of the Gaussian function:\n",
        "\n",
        "$$g_{\\sigma}(x, y) := \\dfrac{1}{2\\pi\\sigma^2}e^{-\\left(\\dfrac{x^2 + y^2}{2\\sigma^2}\\right)}$$.\n",
        "\n",
        "$$\\nabla g_{\\sigma}(x, y) = -\\dfrac{g_{\\sigma}(x,y)}{\\sigma^2}\\left[\\begin{array}{c} x \\\\ y \\end{array}\\right]$$\n",
        "\n",
        "$$\\nabla^2g_{\\sigma}(x,y) = \\dfrac{\\partial^2 g_{\\sigma}}{\\partial x^2} + \\dfrac{\\partial^2 g_{\\sigma}}{\\partial y^2} = \\dfrac{e^{-\\left(\\dfrac{x^2 + y^2}{2\\sigma^2}\\right)}}{\\pi\\sigma^4}\\left[\\dfrac{x^2 + y^2}{2\\sigma^2} - 1\\right]\\:\\:(1)$$\n",
        "\n",
        "\n",
        "As we can see in (1), the sign of $\\nabla^2 g_{\\sigma}$ is determined by the value of $x^2 + y^2$, which can be interpreted as the radius of a circle centered in $(0, 0)$ to which $(x, y)$ belongs, and in particular $\\nabla^2 g_{\\sigma}$ when this radius is equal to $\\sigma\\sqrt{2}$, for which in fact the $\\nabla^2 g_{\\sigma}$ used as convolutional filter has the maximum response."
      ],
      "metadata": {
        "id": "-SV2uOs96K3-"
      }
    },
    {
      "cell_type": "markdown",
      "source": [
        "Since we are operating with discrete values like images, we need to define a `kernel`, which is a matrix $M \\in \\mathbb{R^{(2n+1) \\times (2n+1)}}$ such that $M_{n+1 \\pm i, n+1 \\pm j} = f(\\pm i, \\pm j)$ for a given function $f$."
      ],
      "metadata": {
        "id": "kyt2XBGGEJv5"
      }
    },
    {
      "cell_type": "code",
      "source": [
        "def log_filter(window_size: int, sigma: float = 1.0):\n",
        "  \"\"\"\n",
        "  :param window_size: Size of the kernel window.\n",
        "  :param sigma: Variance (sigma) of the LoG filter.\n",
        "  \"\"\"\n",
        "  w1 = h1 = window_size // 2  # In case of odd window, will give 0 to central value\n",
        "  w2 = h2 = window_size - w1\n",
        "  x, y = np.arange(-w1, w2, 1), np.arange(-h1, h2, 1)\n",
        "  mg = np.meshgrid(x, y)\n",
        "  # Compute the (x^2+y^2/(2sigma^2)) matrix\n",
        "  r = (np.square(mg[0][:, :]) + np.square(mg[1][:, :]))/(2 * sigma**2)\n",
        "  # Now compute the exp(r) matrix\n",
        "  gs = np.exp(-r)\n",
        "  result = 1.0/(np.pi * sigma**4) * (gs * (r - 1.0)) # * for elementwise product\n",
        "  return result "
      ],
      "metadata": {
        "id": "UyMqAcozF3yw"
      },
      "execution_count": 52,
      "outputs": []
    },
    {
      "cell_type": "markdown",
      "source": [
        "An example of LoG matrix for a 3x3 kernel:"
      ],
      "metadata": {
        "id": "Gto8Foz-LO0K"
      }
    },
    {
      "cell_type": "code",
      "source": [
        "log_filter(3, 1.0)"
      ],
      "metadata": {
        "colab": {
          "base_uri": "https://localhost:8080/"
        },
        "id": "VE7Pd2GVKGwF",
        "outputId": "89b37206-3ac9-4992-b07f-aab6d3e055dd"
      },
      "execution_count": 53,
      "outputs": [
        {
          "output_type": "execute_result",
          "data": {
            "text/plain": [
              "array([[ 0.        , -0.09653235,  0.        ],\n",
              "       [-0.09653235, -0.31830989, -0.09653235],\n",
              "       [ 0.        , -0.09653235,  0.        ]])"
            ]
          },
          "metadata": {},
          "execution_count": 53
        }
      ]
    },
    {
      "cell_type": "code",
      "source": [],
      "metadata": {
        "id": "VklbdC6bLq_b"
      },
      "execution_count": null,
      "outputs": []
    }
  ]
}