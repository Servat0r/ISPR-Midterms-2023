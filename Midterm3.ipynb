{
  "cells": [
    {
      "cell_type": "markdown",
      "metadata": {
        "id": "view-in-github",
        "colab_type": "text"
      },
      "source": [
        "<a href=\"https://colab.research.google.com/github/Servat0r/ISPR-Midterms-2023/blob/master/Midterm3.ipynb\" target=\"_parent\"><img src=\"https://colab.research.google.com/assets/colab-badge.svg\" alt=\"Open In Colab\"/></a>"
      ]
    },
    {
      "cell_type": "markdown",
      "metadata": {
        "id": "02PlgxCdOFnQ"
      },
      "source": [
        "# Midterm 3 ISPR 2023 - Assignment 2 - Salvatore Correnti (matr. 584136)\n",
        "In this assignment we will design and test on the `CIFAR-10` dataset a custom Convolutional Neural Network."
      ]
    },
    {
      "cell_type": "markdown",
      "metadata": {
        "id": "WPTIaWC1Oagi"
      },
      "source": [
        "## Initial Imports\n",
        "As usual, we start with a couple of cells for changing working directory and for all necessary imports before actually starting coding."
      ]
    },
    {
      "cell_type": "code",
      "execution_count": null,
      "metadata": {
        "colab": {
          "base_uri": "https://localhost:8080/"
        },
        "id": "VXiKJob1NxTy",
        "outputId": "b53de509-c63c-41ef-d5b1-d7a788cf33e6"
      },
      "outputs": [
        {
          "name": "stdout",
          "output_type": "stream",
          "text": [
            "/content/drive/MyDrive/Colab Notebooks/ISPR-Midterms-2023\n"
          ]
        }
      ],
      "source": [
        "%cd \"/content/drive/MyDrive/Colab Notebooks/ISPR-Midterms-2023\""
      ]
    },
    {
      "cell_type": "code",
      "execution_count": null,
      "metadata": {
        "id": "G4dq3HZSOo1Y",
        "outputId": "4086c4ab-753b-44d3-9efa-0d7ba1479318"
      },
      "outputs": [
        {
          "name": "stderr",
          "output_type": "stream",
          "text": [
            "Impossibile trovare il percorso specificato.\n"
          ]
        }
      ],
      "source": [
        "# Below is just to make sure we can build Tensorflow with GPU and to avoid a verbose output for installation\n",
        "!pip install tensorflow 1> /dev/null"
      ]
    },
    {
      "cell_type": "code",
      "execution_count": null,
      "metadata": {
        "id": "mfoa9Kn_QztJ"
      },
      "outputs": [],
      "source": [
        "import numpy as np\n",
        "import tensorflow as tf\n",
        "from PIL import Image\n",
        "import matplotlib.pyplot as plt\n",
        "\n",
        "from tensorflow.keras.utils import to_categorical"
      ]
    },
    {
      "cell_type": "markdown",
      "metadata": {
        "id": "G-MUf7CFQEh_"
      },
      "source": [
        "## CIFAR-10 Dataset\n",
        "For training and evaluating our Convolutional Neural Network, we will use the `CIFAR-10` dataset, which is made up of $50,000$ train and $10,000$ test $32 \\times 32$ RGB images, and is available in `keras` as a \"built-in\" dataset."
      ]
    },
    {
      "cell_type": "code",
      "execution_count": null,
      "metadata": {
        "id": "nP0yXjMaP9x8"
      },
      "outputs": [],
      "source": [
        "(x_train, y_train), (x_test, y_test) = tf.keras.datasets.cifar10.load_data()\n",
        "\n",
        "# Show an image as an example\n",
        "exampleImage = Image.fromarray(x_train[0], mode='RGB')\n",
        "exampleImage = exampleImage.resize((64, 64))  # Just to show it better\n",
        "exampleImage.show()"
      ]
    },
    {
      "cell_type": "markdown",
      "metadata": {
        "id": "B_zSPHgKdIDV"
      },
      "source": [
        "We now convert CIFAR-10 labels into `one-hot` format for usage with a \"Sotfmax-based\" CNN classifier."
      ]
    },
    {
      "cell_type": "code",
      "execution_count": null,
      "metadata": {
        "colab": {
          "base_uri": "https://localhost:8080/"
        },
        "id": "f7L5_9glRS2i",
        "outputId": "7ca74639-69e6-4057-fedc-245b12b557dd"
      },
      "outputs": [
        {
          "data": {
            "text/plain": [
              "array([0., 0., 0., 0., 0., 0., 1., 0., 0., 0.], dtype=float32)"
            ]
          },
          "execution_count": 3,
          "metadata": {},
          "output_type": "execute_result"
        }
      ],
      "source": [
        "#one-hot encode target column\n",
        "y_train = to_categorical(y_train)\n",
        "y_test = to_categorical(y_test)\n",
        "y_train[0]"
      ]
    },
    {
      "cell_type": "code",
      "source": [],
      "metadata": {
        "id": "8FUNXXEm9V91"
      },
      "execution_count": null,
      "outputs": []
    },
    {
      "cell_type": "markdown",
      "metadata": {
        "id": "JyyoJ6dGTX6n"
      },
      "source": [
        "### A quick example of CNN to fix main ideas"
      ]
    },
    {
      "cell_type": "code",
      "execution_count": null,
      "metadata": {
        "id": "enJZJ0JBTa0Q"
      },
      "outputs": [],
      "source": [
        "from tensorflow.keras.models import Sequential\n",
        "from tensorflow.keras.layers import Dense, Conv2D, Flatten\n",
        "\n",
        "model = Sequential()\n",
        "model.add(Conv2D(64, kernel_size=3, activation=\"relu\", input_shape=(32,32,3)))\n",
        "model.add(Conv2D(32, kernel_size=3, activation=\"relu\"))\n",
        "model.add(Flatten())\n",
        "model.add(Dense(10, activation=\"softmax\"))"
      ]
    },
    {
      "cell_type": "code",
      "execution_count": null,
      "metadata": {
        "id": "E2PtW7sYg-x0"
      },
      "outputs": [],
      "source": [
        "model.compile(optimizer='adam', loss='categorical_crossentropy', metrics=['accuracy'])"
      ]
    },
    {
      "cell_type": "code",
      "execution_count": null,
      "metadata": {
        "colab": {
          "base_uri": "https://localhost:8080/"
        },
        "id": "lZlQbXYZhJJ_",
        "outputId": "99402370-6ab1-40e7-e8cb-a041fec02ec6"
      },
      "outputs": [
        {
          "name": "stdout",
          "output_type": "stream",
          "text": [
            "Epoch 1/3\n",
            "1563/1563 [==============================] - 66s 42ms/step - loss: 2.4585 - accuracy: 0.1220 - val_loss: 2.3022 - val_accuracy: 0.1028\n",
            "Epoch 2/3\n",
            "1563/1563 [==============================] - 62s 40ms/step - loss: 2.2948 - accuracy: 0.1099 - val_loss: 2.3056 - val_accuracy: 0.1017\n",
            "Epoch 3/3\n",
            "1563/1563 [==============================] - 65s 41ms/step - loss: 2.2966 - accuracy: 0.1177 - val_loss: 2.3232 - val_accuracy: 0.1060\n"
          ]
        },
        {
          "data": {
            "text/plain": [
              "<keras.callbacks.History at 0x1fe299dafb0>"
            ]
          },
          "execution_count": 6,
          "metadata": {},
          "output_type": "execute_result"
        }
      ],
      "source": [
        "model.fit(x_train, y_train, validation_data=(x_test, y_test), epochs=3)"
      ]
    },
    {
      "cell_type": "markdown",
      "metadata": {
        "id": "GyO9VVjDhFYt"
      },
      "source": []
    },
    {
      "cell_type": "markdown",
      "metadata": {
        "id": "Af7z51RiTbe5"
      },
      "source": []
    }
  ],
  "metadata": {
    "colab": {
      "provenance": [],
      "include_colab_link": true
    },
    "kernelspec": {
      "display_name": "Python 3 (ipykernel)",
      "language": "python",
      "name": "python3"
    },
    "language_info": {
      "codemirror_mode": {
        "name": "ipython",
        "version": 3
      },
      "file_extension": ".py",
      "mimetype": "text/x-python",
      "name": "python",
      "nbconvert_exporter": "python",
      "pygments_lexer": "ipython3",
      "version": "3.10.9"
    }
  },
  "nbformat": 4,
  "nbformat_minor": 0
}